{
 "cells": [
  {
   "cell_type": "code",
   "execution_count": null,
   "id": "931e2294",
   "metadata": {},
   "outputs": [],
   "source": [
    "# WARNING: upload the file poe.txt to Colab before running this code, otherwise you will get a syntax error\n",
    "\n",
    "import random "
   ]
  },
  {
   "cell_type": "code",
   "execution_count": null,
   "id": "01111a4f",
   "metadata": {},
   "outputs": [],
   "source": [
    "# open the file in read only mode\n",
    "text_file = open(\"poe.txt\", \"r\")\n",
    "\n",
    "''' \n",
    "Read each paragraph in the \"poe.txt\" file. Python knows when to stop because we are spitting on '\\n' with is newline character\n",
    "Save the paragraphs in the list \"paragraphs_list\"\n",
    "'''\n",
    "paragraphs_list = text_file.read().split('\\n')\n",
    "\n",
    "# Make sure we read all the paragraphs\n",
    "print(f'You should have read 9 paragraphs: You have {len(paragraphs_list)} paragraphs') \n",
    "\n",
    "# close the file\n",
    "text_file.close()"
   ]
  },
  {
   "cell_type": "code",
   "execution_count": null,
   "id": "139bf963",
   "metadata": {},
   "outputs": [],
   "source": [
    "# randomly choose three paragraphs\n",
    "para_chosen = [random.choice(paragraphs_list), random.choice(paragraphs_list), random.choice(paragraphs_list)]"
   ]
  },
  {
   "cell_type": "code",
   "execution_count": null,
   "id": "36ded69b",
   "metadata": {},
   "outputs": [],
   "source": [
    "# print the paragraphs\n",
    "for p in para_chosen:\n",
    "    print(f'{p}\\n')"
   ]
  },
  {
   "cell_type": "markdown",
   "id": "7acf6b52",
   "metadata": {},
   "source": [
    "**Given the paragraphs chosen, complete the exercise**"
   ]
  },
  {
   "cell_type": "code",
   "execution_count": null,
   "id": "4db7b9e3",
   "metadata": {},
   "outputs": [],
   "source": []
  }
 ],
 "metadata": {
  "kernelspec": {
   "display_name": "Python 3",
   "language": "python",
   "name": "python3"
  },
  "language_info": {
   "codemirror_mode": {
    "name": "ipython",
    "version": 3
   },
   "file_extension": ".py",
   "mimetype": "text/x-python",
   "name": "python",
   "nbconvert_exporter": "python",
   "pygments_lexer": "ipython3",
   "version": "3.6.13"
  }
 },
 "nbformat": 4,
 "nbformat_minor": 5
}
